{
 "cells": [
  {
   "cell_type": "code",
   "execution_count": 1,
   "id": "charming-symphony",
   "metadata": {},
   "outputs": [
    {
     "name": "stdout",
     "output_type": "stream",
     "text": [
      "Processing /home/jovyan\n",
      "Requirement already satisfied: plotly in /opt/conda/lib/python3.8/site-packages (from edacolors==0.0.1) (5.1.0)\n",
      "Requirement already satisfied: six in /opt/conda/lib/python3.8/site-packages (from plotly->edacolors==0.0.1) (1.15.0)\n",
      "Requirement already satisfied: tenacity>=6.2.0 in /opt/conda/lib/python3.8/site-packages (from plotly->edacolors==0.0.1) (8.0.1)\n",
      "Building wheels for collected packages: edacolors\n",
      "  Building wheel for edacolors (setup.py) ... \u001b[?25ldone\n",
      "\u001b[?25h  Created wheel for edacolors: filename=edacolors-0.0.1-py3-none-any.whl size=3529 sha256=bb3c9a9c09aa0bb0e08364ddc0d716b24d3c26a6dc2e4a2e4497079253b25e99\n",
      "  Stored in directory: /tmp/pip-ephem-wheel-cache-37bs383_/wheels/fc/c4/49/78b5bd16ca276f2916d0829d47c131046b6e4575f7dd51e987\n",
      "Successfully built edacolors\n",
      "Installing collected packages: edacolors\n",
      "  Attempting uninstall: edacolors\n",
      "    Found existing installation: edacolors 0.0.1\n",
      "    Uninstalling edacolors-0.0.1:\n",
      "      Successfully uninstalled edacolors-0.0.1\n",
      "Successfully installed edacolors-0.0.1\n",
      "Note: you may need to restart the kernel to use updated packages.\n"
     ]
    }
   ],
   "source": [
    "pip install ."
   ]
  },
  {
   "cell_type": "code",
   "execution_count": 2,
   "id": "forced-aircraft",
   "metadata": {},
   "outputs": [],
   "source": [
    "## Load packages \n",
    "\n",
    "# General packages\n",
    "import numpy as np\n",
    "import sys\n",
    "import pandas as pd\n",
    "import seaborn as sns\n",
    "import matplotlib.pyplot as plt \n",
    "\n",
    "# Plotly\n",
    "import plotly.express as px\n",
    "import plotly.graph_objects as go\n",
    "import plotly.io as pio\n",
    "import random\n",
    "import string\n",
    "\n",
    "# eda colors\n",
    "from edacolors import eda_themes\n",
    "from edacolors.eda_themes import *\n",
    "\n",
    "# Load eda visualization theme\n",
    "pio.templates.default = \"edacolors\""
   ]
  },
  {
   "cell_type": "code",
   "execution_count": 3,
   "id": "intimate-links",
   "metadata": {},
   "outputs": [],
   "source": [
    "## Choose parameters for data and colormap\n",
    "\n",
    "# Parameters\n",
    "NSAMPLES = 1000\n",
    "NCOLORS = 8   # MUST be <= 8 for ito, tol\n",
    "QUALITATIVEMAP = tol  # ito or tol\n",
    "QUALITATIVEMAP_VALUES = tol_values"
   ]
  },
  {
   "cell_type": "code",
   "execution_count": 7,
   "id": "fifty-insulation",
   "metadata": {},
   "outputs": [],
   "source": [
    "from colorsys import rgb_to_hls, hls_to_rgb\n",
    "\n",
    "def adjust_color_lightness(r, g, b, adjustment):\n",
    "    h, l, s = rgb_to_hls(r / 255.0, g / 255.0, b / 255.0)\n",
    "    l = max(min(l + adjustment, 1.0), 0.0)\n",
    "    r, g, b = hls_to_rgb(h, l, s)\n",
    "    return int(r * 255), int(g * 255), int(b * 255)"
   ]
  },
  {
   "cell_type": "code",
   "execution_count": 10,
   "id": "strange-lending",
   "metadata": {},
   "outputs": [
    {
     "data": {
      "text/plain": [
       "204"
      ]
     },
     "execution_count": 10,
     "metadata": {},
     "output_type": "execute_result"
    }
   ],
   "source": [
    "tol_values[1][1]"
   ]
  },
  {
   "cell_type": "code",
   "execution_count": 11,
   "id": "hundred-twelve",
   "metadata": {},
   "outputs": [
    {
     "data": {
      "text/plain": [
       "(115, 28, 72)"
      ]
     },
     "execution_count": 11,
     "metadata": {},
     "output_type": "execute_result"
    }
   ],
   "source": [
    "adjust_color_lightness(tol_values[0][0],tol_values[0][1], tol_values[0][2], -.05)"
   ]
  },
  {
   "cell_type": "code",
   "execution_count": null,
   "id": "automotive-night",
   "metadata": {},
   "outputs": [],
   "source": [
    "## Generate data\n",
    "# Note - assuming no negative data.\n",
    "\n",
    "# Create different types of variables\n",
    "cat1_vars = random.sample(string.ascii_lowercase,NCOLORS)\n",
    "cat2_vars = random.sample(string.ascii_uppercase,NCOLORS)\n",
    "\n",
    "cat1 = [random.choice(cat1_vars) for i in np.arange(NSAMPLES)]\n",
    "cat2 = [random.choice(cat2_vars) for i in np.arange(NSAMPLES)]\n",
    "binary1 = [random.choice([0, 1]) for i in np.arange(NSAMPLES)]\n",
    "binary2 = [random.choice([0, 1]) for i in np.arange(NSAMPLES)]\n",
    "ordinal1 = [random.choice(np.arange(NCOLORS)) for i in np.arange(NSAMPLES)]\n",
    "ordinal2 = [random.choice(np.arange(NCOLORS)) for i in np.arange(NSAMPLES)]\n",
    "cont1 = np.abs([random.gauss(5,2) for i in np.arange(NSAMPLES)])\n",
    "cont2 = np.abs([cont1[i] + random.gauss(1,1) for i in np.arange(NSAMPLES)])\n",
    "cont3 = np.abs([random.gauss(5,2) for i in np.arange(NSAMPLES)])\n",
    "\n",
    "df = pd.DataFrame({\"cat1\": cat1, \"cat2\": cat2, \"binary1\": binary1, \"binary2\": binary2,\n",
    "                          \"ordinal1\": ordinal1, \"ordinal2\": ordinal2, \n",
    "                          \"cont1\": cont1, \"cont2\": cont2, \"cont3\": cont3})\n",
    "\n",
    "# Add a little shift to continuous variables so they don't sit all on top of each other\n",
    "for (i,var) in enumerate(cat1_vars):\n",
    "    df.cont2[df.cat1 == var] += 5*i\n",
    "\n",
    "\n",
    "df.head()"
   ]
  },
  {
   "cell_type": "code",
   "execution_count": null,
   "id": "oriented-remainder",
   "metadata": {},
   "outputs": [],
   "source": [
    "# Great. We have data. Now let's start making plots!\n"
   ]
  },
  {
   "cell_type": "code",
   "execution_count": null,
   "id": "incoming-nevada",
   "metadata": {
    "scrolled": false
   },
   "outputs": [],
   "source": [
    "# Overplotted scatter\n",
    "# For now, colors separated\n",
    "\n",
    "fig = px.scatter(df, x='cont1', y='cont2', color='cat1', color_discrete_sequence=QUALITATIVEMAP, trendline='ols')\n",
    "\n",
    "fig.update_traces(marker_size=10, marker_opacity=1)\n",
    "fig.show()"
   ]
  },
  {
   "cell_type": "code",
   "execution_count": null,
   "id": "domestic-fields",
   "metadata": {},
   "outputs": [],
   "source": [
    "# Overplotted scatter\n",
    "# Simple adjust opacity - fails for large NSAMPLES (try 100000)\n",
    "\n",
    "fig = px.scatter(df, x='cont1', y='cont2', color='cat1', color_discrete_sequence=QUALITATIVEMAP, trendline='ols')\n",
    "\n",
    "fig.update_traces(marker_size=10, marker_opacity=0.2)\n",
    "fig.show()"
   ]
  },
  {
   "cell_type": "code",
   "execution_count": null,
   "id": "prime-probability",
   "metadata": {},
   "outputs": [],
   "source": [
    "# Overplotted scatter\n",
    "# Make lines slightly, slightly darker\n",
    "\n",
    "fig = px.scatter(df, x='cont1', y='cont2', color='cat1', color_discrete_sequence=QUALITATIVEMAP, trendline='ols')\n",
    "\n",
    "fig.update_traces(marker_size=10, marker_opacity=0.2)\n",
    "fig.show()"
   ]
  },
  {
   "cell_type": "code",
   "execution_count": null,
   "id": "athletic-spectacular",
   "metadata": {},
   "outputs": [],
   "source": [
    "# Seaborn\n",
    "ax = sns.regplot(x=\"cont1\", y=\"cont2\", data=df,\n",
    "                 scatter_kws={\"color\": \"pink\"}, line_kws={\"color\": \"red\"})\n",
    "\n",
    "plt.show()"
   ]
  },
  {
   "cell_type": "code",
   "execution_count": null,
   "id": "confused-folks",
   "metadata": {},
   "outputs": [],
   "source": [
    "df=pd.DataFrame(dict(A=np.random.uniform(low=-1, high=2, size=25).tolist(),\n",
    "                    B=np.random.uniform(low=-4, high=3, size=25).tolist(),\n",
    "                    C=np.random.uniform(low=-1, high=3, size=25).tolist(),\n",
    "                    ))\n",
    "\n",
    "# plotly  figure\n",
    "fig = go.Figure()\n",
    "\n",
    "# add line and shaded area for each series and standards deviation\n",
    "for i, col in enumerate(df):\n",
    "    new_col = QUALITATIVEMAP[i]\n",
    "    print('rgba' + new_col[3:-1]+',0.2)')\n",
    "    x = list(df.index.values+1)\n",
    "    y1 = df[col]\n",
    "    y1_upper = [(y + np.std(df[col])) for y in df[col]]\n",
    "    y1_lower = [(y - np.std(df[col])) for y in df[col]]\n",
    "    y1_lower = y1_lower[::-1]\n",
    "    \n",
    "    # scatter\n",
    "    fig.add_traces(go.Scatter(x=x,\n",
    "                                y=y1,\n",
    "                                showlegend=False,\n",
    "                                mode='markers',\n",
    "                                name=col))\n",
    "\n",
    "    # standard deviation area\n",
    "    fig.add_traces(go.Scatter(x=x+x[::-1],\n",
    "                                y=y1_upper+y1_lower,\n",
    "                                fill='tozerox',\n",
    "                                fillcolor='rgba' + new_col[3:-1]+',0.2)',\n",
    "                                line=dict(color='rgba(255,255,255,0)'),\n",
    "                                showlegend=False,\n",
    "                                opacity=0.1,\n",
    "                                name=col))\n",
    "\n",
    "    # line trace\n",
    "    fig.add_traces(go.Scatter(x=x,\n",
    "                              y=y1,\n",
    "                              line= {\"color\": 'rgba' + new_col[3:-1]+',0.2)'},\n",
    "                              mode='lines',\n",
    "                              name=col)\n",
    "                                )\n",
    "# set x-axis\n",
    "fig.update_layout(xaxis=dict(range=[1,len(df)]))\n",
    "\n",
    "fig.show()"
   ]
  },
  {
   "cell_type": "code",
   "execution_count": null,
   "id": "indirect-booking",
   "metadata": {},
   "outputs": [],
   "source": [
    "QUALITATIVEMAP[1][0:-1]"
   ]
  },
  {
   "cell_type": "code",
   "execution_count": null,
   "id": "corporate-resolution",
   "metadata": {},
   "outputs": [],
   "source": []
  }
 ],
 "metadata": {
  "kernelspec": {
   "display_name": "Python 3",
   "language": "python",
   "name": "python3"
  },
  "language_info": {
   "codemirror_mode": {
    "name": "ipython",
    "version": 3
   },
   "file_extension": ".py",
   "mimetype": "text/x-python",
   "name": "python",
   "nbconvert_exporter": "python",
   "pygments_lexer": "ipython3",
   "version": "3.8.6"
  }
 },
 "nbformat": 4,
 "nbformat_minor": 5
}
